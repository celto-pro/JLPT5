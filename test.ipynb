{
 "cells": [
  {
   "cell_type": "code",
   "execution_count": 1,
   "metadata": {},
   "outputs": [],
   "source": [
    "# Importation\n",
    "import json\n",
    "import random\n",
    "import numpy as np\n",
    "import matplotlib.pyplot as plt\n",
    "import os\n",
    "\n",
    "import jap_data\n",
    "import jap_alphabet\n",
    "import jap_JPTL5_80kanji\n",
    "import jap_JLPT5_vocabulary\n",
    "import jap_JLPT5_kanji_and_basic_vocabulary\n",
    "import jap_JLPT5_sentences\n",
    "import global_functions\n",
    "import exam\n",
    "\n",
    "# TO-DO LIST\n",
    "\n",
    "    ## Done\n",
    "    ## Done\n",
    "    ## Done\n",
    "    ## Done\n",
    "    ## Done\n",
    "    ## Done\n",
    "    ## Done\n",
    "    ## Done\n",
    "    ## Done\n",
    "    ## Done\n",
    "    ## Done\n",
    "    ## Done\n",
    "    ## Show evaluation score => Improve \"Global score\" legend"
   ]
  },
  {
   "cell_type": "code",
   "execution_count": 2,
   "metadata": {},
   "outputs": [
    {
     "data": {
      "text/plain": [
       "(822, 822)"
      ]
     },
     "execution_count": 2,
     "metadata": {},
     "output_type": "execute_result"
    }
   ],
   "source": [
    "len(jap_data.JLPT5_voc_fr), len(jap_data.JLPT5_voc_jap)"
   ]
  },
  {
   "cell_type": "code",
   "execution_count": 3,
   "metadata": {},
   "outputs": [
    {
     "data": {
      "text/plain": [
       "{'彼はどこに行きますか？': [11, 3, 'Où va-t-il ?'],\n",
       " '彼女の名前は何ですか？': [17, 3, 'Quelle est son nom ? (son féminin)'],\n",
       " '彼にはお兄さんが三人います': [4, 1, 'Il a trois grands frères.'],\n",
       " 'あなたのご両親は英語が話せますか?': [4, 1, 'Est-ce que tes parents parlent anglais ?'],\n",
       " '私は寒い | 寒いです': [5, 1, \"J'ai froid | Il fait froid\"],\n",
       " '私の手は冷たいです | 手が冷たいです': [5,\n",
       "  1,\n",
       "  \"J'ai les mains froides | J'ai froid aux mains\"],\n",
       " '猫が好きです。': [1, 1, \"J'aime les chats.\"],\n",
       " '私はあなたを愛しています。': [11, 3, \"Je t'aime\"],\n",
       " '好きな人がいますか。': [14, 3, 'Avez-vous un être cher (un amoureux) ?'],\n",
       " 'すみません、あなたは誰ですか？': [10, 3, 'Excusez-moi, qui êtes-vous ?'],\n",
       " 'それは何時間かかりますか？': [11, 3, \"combien d'heure cela prend-t'il ?\"],\n",
       " '時間がない': [2, 1, \"je n'ai pas le temps\"],\n",
       " '出発の時間です；出発の時間になりました。': [2,\n",
       "  1,\n",
       "  \"c'est l'heure de partir; il est temps de partir\"],\n",
       " 'それは時間の問題だけです': [5, 1, \"ce n'est qu'une question de temps\"],\n",
       " '彼はいつ来ますか？': [14, 3, 'Quand arrive-t-il ?'],\n",
       " '私は三十一時間働きます': [5, 1, 'Je travaille pendant 31 heures.'],\n",
       " '毎日、忙しいです': [12, 3, 'Je suis occupé tous les jours.'],\n",
       " '私の後ろに椅子があります': [9, 2, 'Il y a une chaise derrière moi'],\n",
       " '十冊の本があります': [2, 1, 'Il y a 10 livres.'],\n",
       " '昨日は家にいました': [8, 2, 'Je suis resté à la maison hier'],\n",
       " 'あなたはいつ来ますか？': [11, 3, 'Quand viens-tu ?'],\n",
       " 'アアー日本語が分かって来た': [3, 1, 'Ah, je commence à comprendre le japonais.'],\n",
       " '別の人です': [8, 2, \"c'est quelqu'un d'autre\"],\n",
       " 'それは全く関係がない、全く違うことです | 全く別のことです': [0,\n",
       "  1,\n",
       "  \"ça n'a rien à voir c'est complètement autre chose\"],\n",
       " '何をしているのですか？': [3, 1, \"Qu'est-ce que tu fabriques ?\"],\n",
       " '私は何もすることがありません': [9, 2, \"Je n'ai rien à faire\"],\n",
       " '私は時々父とスポーツをします': [0, 1, 'Je fais parfois du sport avec mon père.'],\n",
       " 'ラーメンていしょくを四つください': [3, 1, \"Quatre bols de ramen, s'il vous plaît.\"],\n",
       " '少し大きいですね': [5, 1, \"C'est un peu grand, n'est-ce pas ?\"],\n",
       " 'いつも七時半にヨガをします': [4, 1, 'Je fais toujours du yoga à 7h30'],\n",
       " 'このお茶は少し小さいですね': [1, 1, \"Ce thé est plutôt petit, n'est-ce pas ?\"],\n",
       " '可愛いコートが欲しいです': [3, 1, 'Je veux ce blouson mignon'],\n",
       " 'ああ、おにぎりを三つ下さい': [3, 1, 'Ah, trois onigiri s\\\\il-vous-plaît'],\n",
       " '明日、何時にバスケットボールをしますか': [1,\n",
       "  1,\n",
       "  'Demain, à quelle heure fais-tu du baseketball ?'],\n",
       " '彼女達は姉妹です': [4, 1, 'They are sisters'],\n",
       " '私の彼女も空手をします': [2, 1, 'Ma copine fait également du karaté'],\n",
       " '日本の映画を見ますか？': [2, 1, 'Est-ce que tu regardes des films japonais ?'],\n",
       " 'ナオミさん、どんな本が好きですか？': [3, 1, 'Naomi, quels livres aimes-tu ?'],\n",
       " '本当ですか？私も空手をします': [1, 1, 'Vraiment ? Moi aussi, je fais du karaté !'],\n",
       " '一人で音楽を聞きます': [0, 1, \"J'écoute de la musique tout seul.\"],\n",
       " 'よくヨガをしますか？': [0, 1, 'Faites-vous souvent du yoga ?'],\n",
       " 'この鞄はとても古いです': [1, 1, 'Ce sac est très vieux.'],\n",
       " '次のバスはもうすぐ来ます': [0, 1, 'Le prochain bus arrive bientôt.'],\n",
       " 'あのバスは上野公園に行きます': [1, 1, 'Ce bus va au parc Ueno.'],\n",
       " 'この電車は速いですね': [0, 1, \"Ce train est rapide, n'est-ce pas ?\"],\n",
       " 'まだその古いアパートに住んでいますか？': [0,\n",
       "  1,\n",
       "  'Habitez-vous toujours dans cet ancien appartement ?'],\n",
       " '十二時半ごろ昼御飯を作ります': [1,\n",
       "  1,\n",
       "  'Je vais préparer le déjeuner vers douze heures et demie.'],\n",
       " '何時に帰りますか': [1, 1, 'A quelle heure allez-vous rentrer ?'],\n",
       " '今 、映画館へ行きます': [0, 1, 'Maintenant, je vais au cinéma.'],\n",
       " '明日何時に家へ来ますか': [0, 1, 'Demain, à quelle heure viens-tu à la maison ?']}"
      ]
     },
     "execution_count": 3,
     "metadata": {},
     "output_type": "execute_result"
    }
   ],
   "source": [
    "with open('JLPT5_jap_sentences.json', 'r') as file:\n",
    "    data = json.load(file)\n",
    "\n",
    "data"
   ]
  },
  {
   "cell_type": "markdown",
   "metadata": {},
   "source": []
  },
  {
   "cell_type": "code",
   "execution_count": 27,
   "metadata": {},
   "outputs": [
    {
     "name": "stdout",
     "output_type": "stream",
     "text": [
      "For this series, [m - 2s; m + 2s] = [-2.329; 19.829]\n"
     ]
    },
    {
     "data": {
      "text/plain": [
       "'87.5% of the values of this serie are in [m - 2s; m + 2s], where m is the mean and s the standard deviation'"
      ]
     },
     "execution_count": 27,
     "metadata": {},
     "output_type": "execute_result"
    }
   ],
   "source": [
    "import numpy as np\n",
    "\n",
    "def mean_(serie_):\n",
    "    sum_ = 0\n",
    "    for element in serie_:\n",
    "        sum_ += element\n",
    "    return sum_/len(serie_)\n",
    "\n",
    "def variance_(serie_):\n",
    "    sum_ = 0\n",
    "    mean = mean_(serie_)\n",
    "    for element in serie_:\n",
    "        sum_ += (element - mean)**2\n",
    "    return sum_/len(serie_)\n",
    "\n",
    "def standard_deviation_(serie_):\n",
    "    return np.sqrt(variance_(serie_))\n",
    "\n",
    "def centered_values(serie_):\n",
    "    min_value = mean_(serie_) - 2*standard_deviation_(serie_)\n",
    "    max_value = mean_(serie_) + 2*standard_deviation_(serie_)\n",
    "\n",
    "    count_ = 0\n",
    "    for element in serie_:\n",
    "        if (element <= max_value) and (element >= min_value):\n",
    "            count_ += 1\n",
    "    \n",
    "    print(f'For this series, [m - 2s; m + 2s] = [{np.round(min_value, 3)}; {np.round(max_value, 3)}]')\n",
    "\n",
    "    return f'{100*count_/len(serie_)}% of the values of this serie are in [m - 2s; m + 2s], where m is the mean and s the standard deviation'\n",
    "\n",
    "centered_values([1, 2, 8, 8, 9, 10, 12, 20])"
   ]
  },
  {
   "cell_type": "code",
   "execution_count": null,
   "metadata": {},
   "outputs": [],
   "source": []
  },
  {
   "cell_type": "code",
   "execution_count": 3,
   "metadata": {},
   "outputs": [
    {
     "name": "stdout",
     "output_type": "stream",
     "text": [
      "\\Sentences's exercise: Japanese's sentences to kun/on yumi + french.\n",
      "\n",
      "\n",
      " Questions 1 to 10:\n",
      "\n",
      "彼女たちは姉妹です\n",
      "それは時間の問題だけです\n",
      "私は時々父とスポーツをします\n",
      "彼女の名前は何ですか？\n",
      "私は三十一時間働きます\n",
      "すみません、あなたは誰ですか？\n",
      "あなたのご両親は英語が話せますか?\n",
      "好きな人がいますか。\n",
      "猫が好きです。\n",
      "私はあなたを愛しています。\n",
      "\n",
      "Correction time.\n",
      "\n",
      "\n",
      "Japanese's to French:\n",
      "\n",
      "\n",
      "Answers 1 to 10:\n",
      "\n",
      "彼女たちは姉妹です => Kanojotachi wa shimai desu.\n",
      "They are sisters\n",
      "\n",
      "\n",
      "Answers 1 to 10:\n",
      "\n",
      "それは時間の問題だけです => Sore wa jikan no mondai dake desu.\n",
      "ce n'est qu'une question de temps\n",
      "\n",
      "\n",
      "Answers 1 to 10:\n",
      "\n",
      "私は時々父とスポーツをします => Watashi wa tokidoki chichi to supōtsu o shimasu.\n",
      "Je fais parfois du sport avec mon père.\n",
      "\n",
      "\n",
      "Answers 1 to 10:\n",
      "\n",
      "彼女の名前は何ですか？ => Kanojo no namae wa nan desu ka?\n",
      "Quelle est son nom ? (son féminin)\n",
      "\n",
      "\n",
      "Answers 1 to 10:\n",
      "\n",
      "私は三十一時間働きます => Watashi wa sanjuu ichi jikan hatarakimasu.\n",
      "Je travaille pendant 31 heures.\n",
      "\n",
      "\n",
      "Answers 1 to 10:\n",
      "\n",
      "すみません、あなたは誰ですか？ => Sumimasen, anata wa dare desu ka?\n",
      "Excusez-moi, qui êtes-vous ?\n",
      "\n",
      "\n",
      "Answers 1 to 10:\n",
      "\n",
      "あなたのご両親は英語が話せますか? => Anata no ryoushin wa eigo o hanasemasu ka?\n",
      "Est-ce que tes parents parlent anglais ?\n",
      "\n",
      "\n",
      "Answers 1 to 10:\n",
      "\n",
      "好きな人がいますか。 => suki na hito ga imasuka\n",
      "Avez-vous un être cher (un amoureux) ?\n",
      "\n",
      "\n",
      "Answers 1 to 10:\n",
      "\n",
      "猫が好きです。 => Neko ga suki desu\n",
      "J'aime les chats.\n",
      "\n",
      "\n",
      "Answers 1 to 10:\n",
      "\n",
      "私はあなたを愛しています。 => Watashi wa anata o aishiteimasu\n",
      "Je t'aime\n",
      "\n",
      "print:\n",
      "[['彼女たちは姉妹です', 'Kanojotachi wa shimai desu.\\nThey are sisters\\n'], ['それは時間の問題だけです', \"Sore wa jikan no mondai dake desu.\\nce n'est qu'une question de temps\\n\"], ['私は時々父とスポーツをします', 'Watashi wa tokidoki chichi to supōtsu o shimasu.\\nJe fais parfois du sport avec mon père.\\n'], ['彼女の名前は何ですか？', 'Kanojo no namae wa nan desu ka?\\nQuelle est son nom ? (son féminin)\\n'], ['私は三十一時間働きます', 'Watashi wa sanjuu ichi jikan hatarakimasu.\\nJe travaille pendant 31 heures.\\n'], ['すみません、あなたは誰ですか？', 'Sumimasen, anata wa dare desu ka?\\nExcusez-moi, qui êtes-vous ?\\n'], ['あなたのご両親は英語が話せますか?', 'Anata no ryoushin wa eigo o hanasemasu ka?\\nEst-ce que tes parents parlent anglais ?\\n'], ['好きな人がいますか。', 'suki na hito ga imasuka\\nAvez-vous un être cher (un amoureux) ?\\n'], ['猫が好きです。', \"Neko ga suki desu\\nJ'aime les chats.\\n\"], ['私はあなたを愛しています。', \"Watashi wa anata o aishiteimasu\\nJe t'aime\\n\"]]\n",
      "\\Sentences's exercise: kun/on yumi + french to kanji's sentences.\n",
      "\n",
      "\n",
      " Questions 1 to 10:\n",
      "\n",
      "Je travaille pendant 31 heures.\n",
      "Je t'aime\n",
      "Je suis resté à la maison hier\n",
      "Excusez-moi, qui êtes-vous ?\n",
      "Je n'ai rien à faire\n",
      "Qu'est-ce que tu fabriques ?\n",
      "combien d'heure cela prend-t'il ?\n",
      "ce n'est qu'une question de temps\n",
      "Je fais parfois du sport avec mon père.\n",
      "J'ai les mains froides | J'ai froid aux mains\n",
      "\n",
      "Correction time.\n",
      "\n",
      "\n",
      "French's to Japanese:\n",
      "\n",
      "\n",
      "Answers 1 to 10:\n",
      "\n",
      "Je travaille pendant 31 heures. => 私は三十一時間働きます\n",
      "Je t'aime => 私はあなたを愛しています。\n",
      "Je suis resté à la maison hier => 昨日は家にいました\n",
      "Excusez-moi, qui êtes-vous ? => すみません、あなたは誰ですか？\n",
      "Je n'ai rien à faire => 私は何もすることがありません\n",
      "Qu'est-ce que tu fabriques ? => 何をしているのですか？\n",
      "combien d'heure cela prend-t'il ? => それは何時間かかりますか？\n",
      "ce n'est qu'une question de temps => それは時間の問題だけです\n",
      "Je fais parfois du sport avec mon père. => 私は時々父とスポーツをします\n",
      "J'ai les mains froides | J'ai froid aux mains => 私の手は冷たいです | 手が冷たいです\n",
      "print:\n",
      "[['Je travaille pendant 31 heures.', '私は三十一時間働きます'], [\"Je t'aime\", '私はあなたを愛しています。'], ['Je suis resté à la maison hier', '昨日は家にいました'], ['Excusez-moi, qui êtes-vous ?', 'すみません、あなたは誰ですか？'], [\"Je n'ai rien à faire\", '私は何もすることがありません'], [\"Qu'est-ce que tu fabriques ?\", '何をしているのですか？'], [\"combien d'heure cela prend-t'il ?\", 'それは何時間かかりますか？'], [\"ce n'est qu'une question de temps\", 'それは時間の問題だけです'], ['Je fais parfois du sport avec mon père.', '私は時々父とスポーツをします'], [\"J'ai les mains froides | J'ai froid aux mains\", '私の手は冷たいです | 手が冷たいです']]\n",
      "\n",
      "Write down all your mistake(s)\n",
      "\n"
     ]
    },
    {
     "data": {
      "text/plain": [
       "(['私は時々父とスポーツをします', '私はあなたを愛しています。', \"Qu'est-ce que tu fabriques ?\"],\n",
       " 85.0,\n",
       " [[\"Je t'aime\", '私はあなたを愛しています。'],\n",
       "  ['Je fais parfois du sport avec mon père.', '私は時々父とスポーツをします']])"
      ]
     },
     "execution_count": 3,
     "metadata": {},
     "output_type": "execute_result"
    }
   ],
   "source": [
    "jap_JLPT5_sentences.JLPT5_sentences(1)"
   ]
  },
  {
   "cell_type": "code",
   "execution_count": 3,
   "metadata": {},
   "outputs": [
    {
     "name": "stdout",
     "output_type": "stream",
     "text": [
      "\\Sentences's exercise: Japanese's sentences to kun/on yumi + french.\n",
      "\n",
      "\n",
      " Questions 1 to 10:\n",
      "\n",
      "それは全く関係がない、全く違うことです | 全く別のことです\n",
      "彼にはお兄さんが三人います\n",
      "あなたのご両親は英語が話せますか?\n",
      "私は寒い | 寒いです\n",
      "私の手は冷たいです | 手が冷たいです\n",
      "好きな人がいますか。\n",
      "彼女たちは姉妹です\n",
      "それは何時間かかりますか？\n",
      "時間がない\n",
      "出発の時間です；出発の時間になりました。\n",
      "\n",
      "Correction time.\n",
      "\n",
      "\n",
      "Japanese's to French:\n",
      "\n",
      "\n",
      "Answers 1 to 10:\n",
      "\n",
      "それは全く関係がない、全く違うことです | 全く別のことです => Sore wa mattaku kankei ga nai, mattaku chigau koto desu. | Mattaku betsu no koto desu\n",
      "ça n'a rien à voir c'est complètement autre chose\n",
      "\n",
      "\n",
      "Answers 1 to 10:\n",
      "\n",
      "彼にはお兄さんが三人います => Kare ni wa onisan ga san-nin imasu.\n",
      "Il a trois grands frères.\n",
      "\n",
      "\n",
      "Answers 1 to 10:\n",
      "\n",
      "あなたのご両親は英語が話せますか? => Anata no ryoushin wa eigo o hanasemasu ka?\n",
      "Est-ce que tes parents parlent anglais ?\n",
      "\n",
      "\n",
      "Answers 1 to 10:\n",
      "\n",
      "私は寒い | 寒いです => Watashi wa samui | Samui desu\n",
      "J'ai froid | Il fait froid\n",
      "\n",
      "\n",
      "Answers 1 to 10:\n",
      "\n",
      "私の手は冷たいです | 手が冷たいです => Watashi no te wa tsumetai desu | Te ga tsumetai desu\n",
      "J'ai les mains froides | J'ai froid aux mains\n",
      "\n",
      "\n",
      "Answers 1 to 10:\n",
      "\n",
      "好きな人がいますか。 => suki na hito ga imasuka\n",
      "Avez-vous un être cher (un amoureux) ?\n",
      "\n",
      "\n",
      "Answers 1 to 10:\n",
      "\n",
      "彼女たちは姉妹です => Kanojotachi wa shimai desu.\n",
      "They are sisters\n",
      "\n",
      "\n",
      "Answers 1 to 10:\n",
      "\n",
      "それは何時間かかりますか？ => Sore wa nanjikan kakarimasu ka?\n",
      "combien d'heure cela prend-t'il ?\n",
      "\n",
      "\n",
      "Answers 1 to 10:\n",
      "\n",
      "時間がない => Jikan ga nai.\n",
      "je n'ai pas le temps\n",
      "\n",
      "\n",
      "Answers 1 to 10:\n",
      "\n",
      "出発の時間です；出発の時間になりました。 => Shuppatsu no jikan desu; shuppatsu no jikan ni narimashita.\n",
      "c'est l'heure de partir; il est temps de partir\n",
      "\n"
     ]
    }
   ],
   "source": [
    "jap_JLPT5_sentences.worst_score_sentences_training('JLPT5_jap_sentences.json', 0, 10)"
   ]
  },
  {
   "cell_type": "code",
   "execution_count": 2,
   "metadata": {},
   "outputs": [
    {
     "data": {
      "text/plain": [
       "(28, 28, 28)"
      ]
     },
     "execution_count": 2,
     "metadata": {},
     "output_type": "execute_result"
    }
   ],
   "source": [
    "len(jap_data.FR_SENTENCES), len(jap_data.ROMANJI_SENTENCES), len(jap_data.JAP_SENTENCES)"
   ]
  },
  {
   "cell_type": "code",
   "execution_count": null,
   "metadata": {},
   "outputs": [],
   "source": []
  },
  {
   "cell_type": "code",
   "execution_count": 2,
   "metadata": {},
   "outputs": [
    {
     "name": "stdout",
     "output_type": "stream",
     "text": [
      "\\Sentences's exercise: Japanese's sentences to kun/on yumi + french.\n",
      "\n",
      "\n",
      " Questions 1 to 10:\n",
      "\n",
      "彼はどこに行きますか？\n",
      "彼女の名前は何ですか？\n",
      "彼にはお兄さんが三人います\n",
      "あなたのご両親は英語が話せますか?\n",
      "私は寒い | 寒いです\n",
      "私の手は冷たいです | 手が冷たいです\n",
      "猫が好きです。\n",
      "私はあなたを愛しています。\n",
      "好きな人がいますか。\n",
      "彼女たちは姉妹です\n",
      "\n",
      "Correction time.\n",
      "\n",
      "\n",
      "Japanese's to French:\n",
      "\n",
      "\n",
      " Answers 1 to 10:\n",
      "\n",
      "彼はどこに行きますか？ => Kare wa doko ni ikimasu ka?\n",
      "Où va-t-il ?\n",
      "彼女の名前は何ですか？ => Kanojo no namae wa nan desu ka?\n",
      "Quelle est son nom ? (son féminin)\n",
      "彼にはお兄さんが三人います => Kare ni wa onisan ga san-nin imasu.\n",
      "Il a trois grands frères.\n",
      "あなたのご両親は英語が話せますか? => Anata no ryoushin wa eigo o hanasemasu ka?\n",
      "Est-ce que tes parents parlent anglais ?\n",
      "私は寒い | 寒いです => Watashi wa samui | Samui desu\n",
      "J'ai froid | Il fait froid\n",
      "私の手は冷たいです | 手が冷たいです => Watashi no te wa tsumetai desu | Te ga tsumetai desu\n",
      "J'ai les mains froides | J'ai froid aux mains\n",
      "猫が好きです。 => Neko ga suki desu\n",
      "J'aime les chats.\n",
      "私はあなたを愛しています。 => Watashi wa anata o aishiteimasu\n",
      "Je t'aime\n",
      "好きな人がいますか。 => suki na hito ga imasuka\n",
      "Avez-vous un être cher (un amoureux) ?\n",
      "彼女たちは姉妹です => Kanojotachi wa shimai desu.\n",
      "They are sisters\n"
     ]
    }
   ],
   "source": [
    "jap_JLPT5_sentences.worst_score_sentences_training('JLPT5_jap_sentences.json', 0, 10)"
   ]
  },
  {
   "cell_type": "code",
   "execution_count": 2,
   "metadata": {},
   "outputs": [
    {
     "data": {
      "text/plain": [
       "(35, 35, 35)"
      ]
     },
     "execution_count": 2,
     "metadata": {},
     "output_type": "execute_result"
    }
   ],
   "source": [
    "len(jap_data.FR_SENTENCES), len(jap_data.JAP_SENTENCES), len(jap_data.ROMANJI_SENTENCES)"
   ]
  },
  {
   "cell_type": "code",
   "execution_count": 3,
   "metadata": {},
   "outputs": [],
   "source": [
    "jap_JLPT5_sentences.JLPT5_sentences_json_creation('JLPT5_jap_sentences.json', 'JLPT5_fr_sentences.json')"
   ]
  },
  {
   "cell_type": "code",
   "execution_count": 8,
   "metadata": {},
   "outputs": [
    {
     "name": "stdout",
     "output_type": "stream",
     "text": [
      "34\n"
     ]
    },
    {
     "data": {
      "text/plain": [
       "{'彼はどこに行きますか？': [0, 1, 'Où va-t-il ?'],\n",
       " '彼女の名前は何ですか？': [0, 1, 'Quelle est son nom ? (son féminin)'],\n",
       " '彼にはお兄さんが三人います': [0, 1, 'Il a trois grands frères.'],\n",
       " 'あなたのご両親は英語が話せますか?': [0, 1, 'Est-ce que tes parents parlent anglais ?'],\n",
       " '私は寒い | 寒いです': [0, 1, \"J'ai froid | Il fait froid\"],\n",
       " '私の手は冷たいです | 手が冷たいです': [0,\n",
       "  1,\n",
       "  \"J'ai les mains froides | J'ai froid aux mains\"],\n",
       " '猫が好きです。': [0, 1, \"J'aime les chats.\"],\n",
       " '私はあなたを愛しています。': [0, 1, \"Je t'aime\"],\n",
       " '好きな人がいますか。': [0, 1, 'Avez-vous un être cher (un amoureux) ?'],\n",
       " 'あなたのご両親はどこにいますか？': [0, 1, 'Where are your parents?'],\n",
       " '彼女たちは姉妹です': [0, 1, 'They are sisters'],\n",
       " 'すみません、あなたは誰ですか？': [0, 1, 'Excusez-moi, qui êtes-vous ?'],\n",
       " 'それは何時間かかりますか？': [0, 1, \"combien d'heure cela prend-t'il ?\"],\n",
       " '時間がない': [0, 1, \"je n'ai pas le temps\"],\n",
       " '出発の時間です；出発の時間になりました。': [0,\n",
       "  1,\n",
       "  \"c'est l'heure de partir; il est temps de partir\"],\n",
       " 'それは時間の問題だけです': [0, 1, \"ce n'est qu'une question de temps\"],\n",
       " '彼はいつ来ますか？': [0, 1, 'Quand arrive-t-il ?'],\n",
       " '私は三十一時間働きます': [0, 1, 'Je travaille pendant 31 heures.'],\n",
       " '毎日、忙しいです': [0, 1, 'Je suis occupé tous les jours.'],\n",
       " '私の後ろに椅子があります': [0, 1, 'Il y a une chaise derrière moi'],\n",
       " '十冊の本があります': [0, 1, 'Il y a 10 livres.'],\n",
       " '昨日は家にいました': [0, 1, 'Je suis resté à la maison hier'],\n",
       " 'あなたはいつ来ますか？': [0, 1, 'Quand viens-tu ?'],\n",
       " 'アアー日本語が少し理解できるようになりました': [0, 1, 'Oh, je commence à comprendre le japonais.'],\n",
       " 'Q1から質問を読んで、選んだ答えをクリックしてください': [0,\n",
       "  1,\n",
       "  'Lisez les questions à partir de Q1, et cliquez sur la réponse de votre choix.'],\n",
       " '自分の問題に一人で向き合い、「本当にやりたいことは何だろう？」と考えた瞬間が、コーチングへの最初の一歩を踏み出すきっかけでした': [0,\n",
       "  1,\n",
       "  \"C'est un moment où j'étais seul(e) avec mes soucis, me demandant : « qu'est-ce que j'ai vraiment envie de faire ? », qui déclencha mes premiers pas dans le coaching.\"],\n",
       " '別の人です': [0, 1, \"c'est quelqu'un d'autre\"],\n",
       " 'それは全く関係がない、全く違うことです | 全く別のことです': [0,\n",
       "  1,\n",
       "  \"ça n'a rien à voir c'est complètement autre chose\"],\n",
       " 'お金を貯める': [0, 1, \"Mettre de l'argent de côté\"],\n",
       " '私は寿司を取るつもりです': [0, 1, 'Moi, je vais prendre des sushis'],\n",
       " '何をしているのですか？': [0, 1, \"Qu'est-ce que tu fabriques ?\"],\n",
       " '私は何もすることがありません': [0, 1, \"Je n'ai rien à faire\"],\n",
       " 'どうすればいいの？ ; 何をすべきですか？': [0,\n",
       "  1,\n",
       "  'Comment faire ?\" ; \"Que faudrait-il faire ?'],\n",
       " '私は時々父とスポーツをします': [0, 1, 'Je fais parfois du sport avec mon père.']}"
      ]
     },
     "execution_count": 8,
     "metadata": {},
     "output_type": "execute_result"
    }
   ],
   "source": [
    "with open('JLPT5_jap_sentences.json', 'r') as file:\n",
    "    data = json.load(file)\n",
    "\n",
    "print(len(data))\n",
    "\n",
    "data"
   ]
  },
  {
   "cell_type": "code",
   "execution_count": 5,
   "metadata": {},
   "outputs": [],
   "source": [
    "jap_JLPT5_sentences.JLPT5_sentences_json_creation('JLPT5_jap_sentences.json', 'JLPT5_fr_sentences.json')"
   ]
  },
  {
   "cell_type": "code",
   "execution_count": null,
   "metadata": {},
   "outputs": [],
   "source": []
  },
  {
   "cell_type": "code",
   "execution_count": 2,
   "metadata": {},
   "outputs": [
    {
     "name": "stdout",
     "output_type": "stream",
     "text": [
      "Exercise 2, difficulty medium: jap => fr.\n",
      "\n",
      "\n",
      " Questions 1 to 10:\n",
      "\n",
      "八\n",
      "背が低い\n",
      "少ない\n",
      "スリッパ\n",
      "先生\n",
      "それ\n",
      "自動車\n",
      "財宝\n",
      "食\n",
      "掃除\n",
      "\n",
      "Correction time.\n",
      "\n",
      "\n",
      "Japanese to French:\n",
      "\n",
      "\n",
      " Answers 1 to 10:\n",
      "\n",
      "八 => (ハチ|や.つ) 8\n",
      "背が低い => (せがひくい) personne de petite taille\n",
      "少ない => (すくない) peu\n",
      "スリッパ => chaussons, pantoufles\n",
      "先生 => (せんせい) enseignant, médecin, maître\n",
      "それ => cela\n",
      "自動車 => (じどうしゃ) automobile, voiture\n",
      "財宝 => (ざいほう) trésor, richesse\n",
      "食 => (ショク|く.う く.らう た.べる) nourriture, manger\n",
      "掃除 => (そうじ) méange, nettoyage, balayage\n",
      "\n",
      "Perfect! Great job :)\n",
      "\n"
     ]
    },
    {
     "data": {
      "text/plain": [
       "{'八': [22, 4, '(ハチ|や.つ) 8'],\n",
       " '背が低い': [0, 1, '(せがひくい) personne de petite taille'],\n",
       " '少ない': [0, 1, '(すくない) peu'],\n",
       " 'スリッパ': [0, 1, 'chaussons, pantoufles'],\n",
       " '先生': [0, 1, '(せんせい) enseignant, médecin, maître'],\n",
       " 'それ': [0, 1, 'cela'],\n",
       " '自動車': [0, 1, '(じどうしゃ) automobile, voiture'],\n",
       " '財宝': [0, 1, '(ざいほう) trésor, richesse'],\n",
       " '食': [19, 3, '(ショク|く.う く.らう た.べる) nourriture, manger'],\n",
       " '掃除': [0, 1, '(そうじ) méange, nettoyage, balayage']}"
      ]
     },
     "execution_count": 2,
     "metadata": {},
     "output_type": "execute_result"
    }
   ],
   "source": [
    "jap_JLPT5_kanji_and_basic_vocabulary.JLPT5_Exercice23_evaluation(1, 0)"
   ]
  },
  {
   "cell_type": "code",
   "execution_count": 3,
   "metadata": {},
   "outputs": [],
   "source": [
    "L = []\n",
    "\n",
    "for element in L:\n",
    "    print(element)"
   ]
  },
  {
   "cell_type": "code",
   "execution_count": 7,
   "metadata": {},
   "outputs": [
    {
     "data": {
      "text/plain": [
       "{'cat': [2, 5], 'dog': [0, 5], 'fish': [100, 0], 'frog': [5, 2]}"
      ]
     },
     "execution_count": 7,
     "metadata": {},
     "output_type": "execute_result"
    }
   ],
   "source": [
    "bonjour = {'cat': [2, 5, 8],\n",
    "           'dog': [0, 5, 9],\n",
    "           'fish': [100, 0, 110],\n",
    "           'frog': [5, 2, 0]}\n",
    "\n",
    "revoir = {key: value[:-1] for key, value in bonjour.items()}\n",
    "revoir"
   ]
  },
  {
   "cell_type": "code",
   "execution_count": 2,
   "metadata": {},
   "outputs": [
    {
     "data": {
      "text/plain": [
       "{'(たくさん) beaucoup': [0, 1, '沢山', 'vocabulary'],\n",
       " '(さとう) sucre': [1, 1, '砂糖', 'vocabulary'],\n",
       " '(しんぶん) journal': [1, 1, '新聞', 'vocabulary'],\n",
       " \"(せっすい) économies d'eau\": [0, 1, '節水', 'vocabulary'],\n",
       " '(かんごし) infirmier/ère': [0, 1, '看護士', 'vocabulary'],\n",
       " '(ウ|あめ あま-) pluie': [11, 3, '雨', 'kanji'],\n",
       " '(せんげつ) le mois dernier': [0, 1, '先月', 'vocabulary'],\n",
       " '(しょうゆ) sauce soja': [0, 1, '正油', 'vocabulary'],\n",
       " \"(すわる) s'asseoir\": [0, 1, '座る', 'vocabulary'],\n",
       " '(おかねをだす) payer': [0, 1, 'お金を出す', 'vocabulary']}"
      ]
     },
     "execution_count": 2,
     "metadata": {},
     "output_type": "execute_result"
    }
   ],
   "source": [
    "jap_JLPT5_kanji_and_basic_vocabulary.JLPT5_kanji_and_vocabulary_questions_selection(1, 1)"
   ]
  },
  {
   "cell_type": "code",
   "execution_count": 3,
   "metadata": {},
   "outputs": [
    {
     "ename": "ValueError",
     "evalue": "too many values to unpack (expected 3)",
     "output_type": "error",
     "traceback": [
      "\u001b[1;31m---------------------------------------------------------------------------\u001b[0m",
      "\u001b[1;31mValueError\u001b[0m                                Traceback (most recent call last)",
      "\u001b[1;32mc:\\Users\\Celto\\Documents\\Jupiter notebooks\\Japonais\\Japonais_pro\\test.ipynb Cell 3\u001b[0m in \u001b[0;36m1\n\u001b[1;32m----> <a href='vscode-notebook-cell:/c%3A/Users/Celto/Documents/Jupiter%20notebooks/Japonais/Japonais_pro/test.ipynb#X53sZmlsZQ%3D%3D?line=0'>1</a>\u001b[0m data, data_jap, data_vocabulary_selected \u001b[39m=\u001b[39m jap_JLPT5_kanji_and_basic_vocabulary\u001b[39m.\u001b[39mget_kanji_voc_elements(\u001b[39m1\u001b[39m, \u001b[39m0\u001b[39m)\n\u001b[0;32m      <a href='vscode-notebook-cell:/c%3A/Users/Celto/Documents/Jupiter%20notebooks/Japonais/Japonais_pro/test.ipynb#X53sZmlsZQ%3D%3D?line=2'>3</a>\u001b[0m \u001b[39mprint\u001b[39m(\u001b[39mlen\u001b[39m(data), \u001b[39mlen\u001b[39m(data_jap), \u001b[39mlen\u001b[39m(data_vocabulary_selected))\n",
      "\u001b[1;31mValueError\u001b[0m: too many values to unpack (expected 3)"
     ]
    }
   ],
   "source": [
    "data, data_jap, data_vocabulary_selected = jap_JLPT5_kanji_and_basic_vocabulary.get_kanji_voc_elements(1, 0)\n",
    "\n",
    "print(len(data), len(data_jap), len(data_vocabulary_selected))"
   ]
  },
  {
   "cell_type": "code",
   "execution_count": 3,
   "metadata": {},
   "outputs": [
    {
     "data": {
      "text/plain": [
       "3"
      ]
     },
     "execution_count": 3,
     "metadata": {},
     "output_type": "execute_result"
    }
   ],
   "source": [
    "len(jap_JLPT5_kanji_and_basic_vocabulary.get_kanji_voc_elements(1, 0))"
   ]
  },
  {
   "cell_type": "code",
   "execution_count": 4,
   "metadata": {},
   "outputs": [
    {
     "data": {
      "text/plain": [
       "4"
      ]
     },
     "execution_count": 4,
     "metadata": {},
     "output_type": "execute_result"
    }
   ],
   "source": [
    "int(40.5//10)"
   ]
  },
  {
   "cell_type": "code",
   "execution_count": 38,
   "metadata": {},
   "outputs": [
    {
     "data": {
      "text/plain": [
       "[39, 4, '男']"
      ]
     },
     "execution_count": 38,
     "metadata": {},
     "output_type": "execute_result"
    }
   ],
   "source": [
    "with open('JLPT5_fr_kanji.json', 'r') as file:\n",
    "    data = json.load(file)\n",
    "\n",
    "data['(ダン|おとこ) homme']"
   ]
  },
  {
   "cell_type": "code",
   "execution_count": 36,
   "metadata": {},
   "outputs": [
    {
     "data": {
      "text/plain": [
       "[20, 4, '(ダン|おとこ) homme']"
      ]
     },
     "execution_count": 36,
     "metadata": {},
     "output_type": "execute_result"
    }
   ],
   "source": [
    "with open('JLPT5_jap_kanji.json', 'r') as file:\n",
    "    data = json.load(file)\n",
    "\n",
    "data['男']"
   ]
  },
  {
   "cell_type": "code",
   "execution_count": 3,
   "metadata": {},
   "outputs": [],
   "source": [
    "data['汁'] = [0, 1, '(しる) bouillon, soupe, jus (soja par exemple)']\n"
   ]
  },
  {
   "cell_type": "markdown",
   "metadata": {},
   "source": [
    "# Modifier key/value"
   ]
  },
  {
   "cell_type": "code",
   "execution_count": 7,
   "metadata": {},
   "outputs": [],
   "source": [
    "global_functions.jap_JLPT_update_value('JLPT5_jap_vocabulary.json', '食器', [0, 1, '(しょっき) vaisselle'])"
   ]
  },
  {
   "cell_type": "code",
   "execution_count": 7,
   "metadata": {},
   "outputs": [],
   "source": [
    "# Upgrade lowest values after 15 times of training.\n",
    "with open('JLPT5_jap_vocabulary.json', 'r') as file:\n",
    "    data = json.load(file)\n",
    "\n",
    "for key, value in data.items():\n",
    "    if value[0] in [-3, -4]:\n",
    "        data[key] = [-2, 1, value[-1]]\n",
    "\n",
    "with open('JLPT5_jap_vocabulary.json', 'w') as file:\n",
    "    json.dump(data, file, indent=4)"
   ]
  },
  {
   "cell_type": "code",
   "execution_count": 8,
   "metadata": {},
   "outputs": [],
   "source": [
    "global_functions.jap_JLPT_update_value('JLPT5_fr_sentences.json', '(しょっき) vaiselle', [11, 3, '彼女達は姉妹です'])"
   ]
  },
  {
   "cell_type": "code",
   "execution_count": 4,
   "metadata": {},
   "outputs": [],
   "source": [
    "global_functions.jap_JLPT_update_key('JLPT5_jap_sentences.json', '彼女たちは姉妹です', '彼女達は姉妹です')"
   ]
  },
  {
   "cell_type": "code",
   "execution_count": 4,
   "metadata": {},
   "outputs": [],
   "source": [
    "global_functions.jap_JLPT_update_key('JLPT5_fr_vocabulary.json', '(しょっき) vaiselle', '(しょっき) vaisselle')"
   ]
  },
  {
   "cell_type": "code",
   "execution_count": 8,
   "metadata": {},
   "outputs": [
    {
     "data": {
      "text/plain": [
       "[0, 1, '(しょっき) vaisselle']"
      ]
     },
     "execution_count": 8,
     "metadata": {},
     "output_type": "execute_result"
    }
   ],
   "source": [
    "with open('JLPT5_jap_vocabulary.json', 'r') as file:\n",
    "    data = json.load(file)\n",
    "\n",
    "data['食器']"
   ]
  },
  {
   "cell_type": "code",
   "execution_count": 6,
   "metadata": {},
   "outputs": [
    {
     "data": {
      "text/plain": [
       "[0, 1, '食器']"
      ]
     },
     "execution_count": 6,
     "metadata": {},
     "output_type": "execute_result"
    }
   ],
   "source": [
    "with open('JLPT5_fr_vocabulary.json', 'r') as file:\n",
    "    data = json.load(file)\n",
    "\n",
    "data['(しょっき) vaisselle']"
   ]
  },
  {
   "cell_type": "code",
   "execution_count": 2,
   "metadata": {},
   "outputs": [
    {
     "data": {
      "text/plain": [
       "400"
      ]
     },
     "execution_count": 2,
     "metadata": {},
     "output_type": "execute_result"
    }
   ],
   "source": [
    "len(jap_data.JLPT5_voc_fr)"
   ]
  },
  {
   "cell_type": "code",
   "execution_count": 3,
   "metadata": {},
   "outputs": [
    {
     "data": {
      "text/plain": [
       "400"
      ]
     },
     "execution_count": 3,
     "metadata": {},
     "output_type": "execute_result"
    }
   ],
   "source": [
    "len(jap_data.JLPT5_voc_jap)"
   ]
  },
  {
   "cell_type": "code",
   "execution_count": 4,
   "metadata": {},
   "outputs": [
    {
     "name": "stdout",
     "output_type": "stream",
     "text": [
      "399\n",
      "399\n",
      "399\n"
     ]
    }
   ],
   "source": [
    "with open('JLPT5_jap_vocabulary.json', 'r') as file:\n",
    "    data = json.load(file)\n",
    "\n",
    "remember_list = []\n",
    "\n",
    "for key in jap_data.JLPT5_voc_jap:\n",
    "    if key in remember_list:\n",
    "        print(key)\n",
    "    if key in data.keys():\n",
    "        remember_list.append(key)\n",
    "        \n",
    "\n",
    "print(len(data))\n",
    "print(len(remember_list))\n",
    "print(len(jap_data.JLPT5_voc_jap))"
   ]
  },
  {
   "cell_type": "code",
   "execution_count": 5,
   "metadata": {},
   "outputs": [
    {
     "name": "stdout",
     "output_type": "stream",
     "text": [
      "215\n"
     ]
    }
   ],
   "source": [
    "for i, element in enumerate(jap_data.JLPT5_voc_jap):\n",
    "    if element == '時間':\n",
    "        print(i)"
   ]
  },
  {
   "cell_type": "code",
   "execution_count": 6,
   "metadata": {},
   "outputs": [
    {
     "name": "stdout",
     "output_type": "stream",
     "text": [
      "(じかん) temps, heure\n",
      "(じしょ | じびき) dictionnaire\n",
      "(しずか) calme, silencieux\n"
     ]
    }
   ],
   "source": [
    "for i, element in enumerate(jap_data.JLPT5_voc_fr):\n",
    "    if i in [215, 308, 309]:\n",
    "        print(element)"
   ]
  },
  {
   "cell_type": "code",
   "execution_count": 7,
   "metadata": {},
   "outputs": [
    {
     "name": "stdout",
     "output_type": "stream",
     "text": [
      "時間\n",
      "辞書 | 字引\n",
      "静か\n"
     ]
    }
   ],
   "source": [
    "for i, element in enumerate(jap_data.JLPT5_voc_jap):\n",
    "    if i in [215, 308, 309]:\n",
    "        print(element)"
   ]
  },
  {
   "cell_type": "code",
   "execution_count": 8,
   "metadata": {},
   "outputs": [
    {
     "name": "stdout",
     "output_type": "stream",
     "text": [
      "399\n",
      "399\n"
     ]
    }
   ],
   "source": [
    "with open('JLPT5_fr_vocabulary.json', 'r') as file:\n",
    "    data = json.load(file)\n",
    "    \n",
    "for key in jap_data.JLPT5_voc_fr:\n",
    "    if key not in data.keys():\n",
    "        print(key)\n",
    "\n",
    "print(len(data))\n",
    "print(len(jap_data.JLPT5_voc_fr))"
   ]
  },
  {
   "cell_type": "code",
   "execution_count": 9,
   "metadata": {},
   "outputs": [
    {
     "ename": "KeyError",
     "evalue": "'時々'",
     "output_type": "error",
     "traceback": [
      "\u001b[1;31m---------------------------------------------------------------------------\u001b[0m",
      "\u001b[1;31mKeyError\u001b[0m                                  Traceback (most recent call last)",
      "\u001b[1;32mc:\\Users\\Celto\\Documents\\Jupiter notebooks\\Japonais\\Japonais_pro\\test.ipynb Cell 9\u001b[0m in \u001b[0;36m<cell line: 4>\u001b[1;34m()\u001b[0m\n\u001b[0;32m      <a href='vscode-notebook-cell:/c%3A/Users/Celto/Documents/Jupiter%20notebooks/Japonais/Japonais_pro/test.ipynb#X36sZmlsZQ%3D%3D?line=0'>1</a>\u001b[0m \u001b[39mwith\u001b[39;00m \u001b[39mopen\u001b[39m(\u001b[39m'\u001b[39m\u001b[39mJLPT5_jap_vocabulary.json\u001b[39m\u001b[39m'\u001b[39m, \u001b[39m'\u001b[39m\u001b[39mr\u001b[39m\u001b[39m'\u001b[39m) \u001b[39mas\u001b[39;00m file:\n\u001b[0;32m      <a href='vscode-notebook-cell:/c%3A/Users/Celto/Documents/Jupiter%20notebooks/Japonais/Japonais_pro/test.ipynb#X36sZmlsZQ%3D%3D?line=1'>2</a>\u001b[0m     data \u001b[39m=\u001b[39m json\u001b[39m.\u001b[39mload(file)\n\u001b[1;32m----> <a href='vscode-notebook-cell:/c%3A/Users/Celto/Documents/Jupiter%20notebooks/Japonais/Japonais_pro/test.ipynb#X36sZmlsZQ%3D%3D?line=3'>4</a>\u001b[0m data\u001b[39m.\u001b[39;49mpop(\u001b[39m'\u001b[39;49m\u001b[39m時々\u001b[39;49m\u001b[39m'\u001b[39;49m)\n\u001b[0;32m      <a href='vscode-notebook-cell:/c%3A/Users/Celto/Documents/Jupiter%20notebooks/Japonais/Japonais_pro/test.ipynb#X36sZmlsZQ%3D%3D?line=5'>6</a>\u001b[0m \u001b[39mwith\u001b[39;00m \u001b[39mopen\u001b[39m(\u001b[39m'\u001b[39m\u001b[39mJLPT5_jap_vocabulary.json\u001b[39m\u001b[39m'\u001b[39m, \u001b[39m'\u001b[39m\u001b[39mw\u001b[39m\u001b[39m'\u001b[39m) \u001b[39mas\u001b[39;00m file:\n\u001b[0;32m      <a href='vscode-notebook-cell:/c%3A/Users/Celto/Documents/Jupiter%20notebooks/Japonais/Japonais_pro/test.ipynb#X36sZmlsZQ%3D%3D?line=6'>7</a>\u001b[0m     json\u001b[39m.\u001b[39mdump(data, file, indent\u001b[39m=\u001b[39m\u001b[39m4\u001b[39m)\n",
      "\u001b[1;31mKeyError\u001b[0m: '時々'"
     ]
    }
   ],
   "source": [
    "with open('JLPT5_jap_vocabulary.json', 'r') as file:\n",
    "    data = json.load(file)\n",
    "\n",
    "data.pop('時々')\n",
    "\n",
    "with open('JLPT5_jap_vocabulary.json', 'w') as file:\n",
    "    json.dump(data, file, indent=4)"
   ]
  },
  {
   "cell_type": "code",
   "execution_count": 10,
   "metadata": {},
   "outputs": [
    {
     "name": "stdout",
     "output_type": "stream",
     "text": [
      "399\n"
     ]
    },
    {
     "data": {
      "text/plain": [
       "[0, 1, '(どうが) vidéo, animation']"
      ]
     },
     "execution_count": 10,
     "metadata": {},
     "output_type": "execute_result"
    }
   ],
   "source": [
    "with open('JLPT5_jap_vocabulary.json', 'r') as file:\n",
    "    data = json.load(file)\n",
    "\n",
    "print(len(data))\n",
    "data['童画 | 動画']"
   ]
  },
  {
   "cell_type": "code",
   "execution_count": 11,
   "metadata": {},
   "outputs": [
    {
     "name": "stdout",
     "output_type": "stream",
     "text": [
      "399\n"
     ]
    },
    {
     "data": {
      "text/plain": [
       "[0, 1, '立つ']"
      ]
     },
     "execution_count": 11,
     "metadata": {},
     "output_type": "execute_result"
    }
   ],
   "source": [
    "with open('JLPT5_fr_vocabulary.json', 'r') as file:\n",
    "    data = json.load(file)\n",
    "\n",
    "print(len(data))\n",
    "data['(たつ) se lever, se mettre debout']\n",
    "\n",
    "# data.pop('(ときどき) de temps en temps, quelques fois')\n",
    "\n",
    "# with open('JLPT5_fr_vocabulary.json', 'w') as file:\n",
    "#     json.dump(data, file, indent=4)\n"
   ]
  },
  {
   "cell_type": "code",
   "execution_count": null,
   "metadata": {},
   "outputs": [],
   "source": []
  },
  {
   "cell_type": "code",
   "execution_count": 2,
   "metadata": {},
   "outputs": [
    {
     "name": "stdout",
     "output_type": "stream",
     "text": [
      "\\Sentences's exercise: Japanese's sentences to kun/on yumi + french.\n",
      "\n",
      "\n",
      " Questions 1 to 10:\n",
      "\n",
      "することがない\n",
      "昨日はうちにいました\n",
      "三十一時間働きます\n",
      "好きな人がいますか。\n",
      "猫が好きです。\n",
      "後ろに椅子があります\n",
      "別の人です\n",
      "私は寒いです\n",
      "いつ来ますか\n",
      "時間の問題だ\n",
      "\n",
      "Correction time.\n",
      "\n",
      "\n",
      "Japanese's to French:\n",
      "\n",
      "\n",
      " Answers 1 to 10:\n",
      "\n",
      "することがない => Je n'ai rien à faire\n",
      "昨日はうちにいました => Je suis resté à la maison hier\n",
      "三十一時間働きます => Je travaille pendant 31 heures.\n",
      "好きな人がいますか。 => Avez-vous un être cher (un amoureux) ?\n",
      "猫が好きです。 => J'aime les chats.\n",
      "後ろに椅子があります => Il y a une chaise derrière moi\n",
      "別の人です => (betsu の hito です) c'est quelqu'un d'autre\n",
      "私は寒いです => J'ai froid | Il fait froid\n",
      "いつ来ますか => Quand viens-tu ?\n",
      "時間の問題だ => (じかん の mondai da) ce n'est qu'une question de temps\n",
      "\\Sentences's exercise: kun/on yumi + french to kanji's sentences.\n",
      "\n",
      "\n",
      " Questions 1 to 10:\n",
      "\n",
      "(nani shiteiru no) Qu'est-ce que tu fabriques ?\n",
      "Je travaille pendant 31 heures.\n",
      "(mattaく betsu の こと です) ça n'a rien à voir c'est complètement autre chose\n",
      "(じかん の mondai da) ce n'est qu'une question de temps\n",
      "(じかん が ない) Je n'ai pas le temps\n",
      "They are sisters\n",
      "Oh, je commence à comprendre le japonais.\n",
      "Excusez-moi, qui êtes-vous ?\n",
      "(かra mondai wo yoんde, じbuん の eraんだ kotae を クリック して いって ください) Lisez les questions à partir de Q1, et cliquez sur la réponse de votre choix.\n",
      "J'ai froid | Il fait froid\n",
      "\n",
      "Correction time.\n",
      "\n",
      "\n",
      "French's to Japanese:\n",
      "\n",
      "\n",
      " Answers 1 to 10:\n",
      "\n",
      "(nani shiteiru no) Qu'est-ce que tu fabriques ? => 何しているの？\n",
      "Je travaille pendant 31 heures. => 三十一時間働きます\n",
      "(mattaく betsu の こと です) ça n'a rien à voir c'est complètement autre chose => 全く別のことです\n",
      "(じかん の mondai da) ce n'est qu'une question de temps => 時間の問題だ\n",
      "(じかん が ない) Je n'ai pas le temps => 時間がない\n",
      "They are sisters => 彼女かのじょたちは姉妹しまいです\n",
      "Oh, je commence à comprendre le japonais. => アアー日本語が分かって来た\n",
      "Excusez-moi, qui êtes-vous ? => すみません、あなたは誰だれですか？\n",
      "(かra mondai wo yoんde, じbuん の eraんだ kotae を クリック して いって ください) Lisez les questions à partir de Q1, et cliquez sur la réponse de votre choix. => から質問を読んで、自分の選んだ答えをクリックしていってください\n",
      "J'ai froid | Il fait froid => 私は寒いです\n"
     ]
    },
    {
     "ename": "ValueError",
     "evalue": "invalid literal for int() with base 10: ''",
     "output_type": "error",
     "traceback": [
      "\u001b[1;31m---------------------------------------------------------------------------\u001b[0m",
      "\u001b[1;31mValueError\u001b[0m                                Traceback (most recent call last)",
      "\u001b[1;32mc:\\Users\\Celto\\Documents\\Jupiter notebooks\\Japonais\\Japonais_pro\\test.ipynb Cell 2\u001b[0m in \u001b[0;36m<cell line: 1>\u001b[1;34m()\u001b[0m\n\u001b[1;32m----> <a href='vscode-notebook-cell:/c%3A/Users/Celto/Documents/Jupiter%20notebooks/Japonais/Japonais_pro/test.ipynb#X26sZmlsZQ%3D%3D?line=0'>1</a>\u001b[0m jap_JLPT5_sentences\u001b[39m.\u001b[39;49mJLPT5_sentences(\u001b[39m1\u001b[39;49m)\n",
      "File \u001b[1;32mc:\\Users\\Celto\\Documents\\Jupiter notebooks\\Japonais\\Japonais_pro\\jap_JLPT5_sentences.py:583\u001b[0m, in \u001b[0;36mJLPT5_sentences\u001b[1;34m(size)\u001b[0m\n\u001b[0;32m    580\u001b[0m JLPT5_sentences_corrections_presentation(data_fr, \u001b[39m1\u001b[39m)\n\u001b[0;32m    582\u001b[0m \u001b[39m# Get potential mistake(s)\u001b[39;00m\n\u001b[1;32m--> 583\u001b[0m number_mistakes, list_mistakes \u001b[39m=\u001b[39m global_functions\u001b[39m.\u001b[39;49mget_mistakes()\n\u001b[0;32m    585\u001b[0m \u001b[39m# Add 'S' for success and 'F' for fail to all test we did: [[question_1, 'F'], ...]\u001b[39;00m\n\u001b[0;32m    586\u001b[0m SF_list \u001b[39m=\u001b[39m global_functions\u001b[39m.\u001b[39msuccess_fail_list(data_jap, list_mistakes)\n",
      "File \u001b[1;32mc:\\Users\\Celto\\Documents\\Jupiter notebooks\\Japonais\\Japonais_pro\\global_functions.py:279\u001b[0m, in \u001b[0;36mget_mistakes\u001b[1;34m()\u001b[0m\n\u001b[0;32m    277\u001b[0m \u001b[39mdef\u001b[39;00m \u001b[39mget_mistakes\u001b[39m():\n\u001b[0;32m    278\u001b[0m     \u001b[39m# Ask if there are mistakes\u001b[39;00m\n\u001b[1;32m--> 279\u001b[0m     number_mistakes \u001b[39m=\u001b[39m \u001b[39mint\u001b[39;49m(\u001b[39minput\u001b[39;49m(\u001b[39m'\u001b[39;49m\u001b[39mHow many mistakes did you make?\u001b[39;49m\u001b[39m'\u001b[39;49m))\n\u001b[0;32m    280\u001b[0m     list_mistakes \u001b[39m=\u001b[39m []\n\u001b[0;32m    282\u001b[0m     \u001b[39mif\u001b[39;00m number_mistakes \u001b[39m==\u001b[39m \u001b[39m0\u001b[39m:\n",
      "\u001b[1;31mValueError\u001b[0m: invalid literal for int() with base 10: ''"
     ]
    }
   ],
   "source": [
    "jap_JLPT5_sentences.JLPT5_sentences(1)"
   ]
  },
  {
   "cell_type": "code",
   "execution_count": 5,
   "metadata": {},
   "outputs": [
    {
     "data": {
      "image/png": "[encoded data removed]",
      "text/plain": [
       "<Figure size 640x480 with 1 Axes>"
      ]
     },
     "metadata": {},
     "output_type": "display_data"
    }
   ],
   "source": [
    "global_functions.show_level('JLPT5_fr_sentences.json', 'Score presentation')"
   ]
  },
  {
   "cell_type": "code",
   "execution_count": 2,
   "metadata": {},
   "outputs": [
    {
     "name": "stdout",
     "output_type": "stream",
     "text": [
      "\n",
      "Alphabet training: Romanji, Hiragana, Katakana\n",
      "\n",
      "\n",
      "1. Romanji to hiragana & katakana\n",
      "\n",
      "nu\n",
      "no\n",
      "zo\n",
      "ne\n",
      "o\n",
      "mo\n",
      "po\n",
      "ru\n",
      "shi\n",
      "yu\n",
      "yo\n",
      "ki\n",
      "\n",
      "2. Hiragana to romanji & katakana\n",
      "\n",
      "ば\n",
      "ろ\n",
      "ぬ\n",
      "た\n",
      "ほ\n",
      "せ\n",
      "ぜ\n",
      "ひ\n",
      "か\n",
      "ど\n",
      "り\n",
      "れ\n",
      "\n",
      "3. Katakana to romanji & hiragana\n",
      "\n",
      "バ\n",
      "ヲ\n",
      "ソ\n",
      "ヅ\n",
      "コ\n",
      "エ\n",
      "ミ\n",
      "ジ\n",
      "ケ\n",
      "ヒ\n",
      "ウ\n",
      "テ\n",
      "\n",
      "Correction time.\n",
      "\n",
      "\n",
      "1. Romanji's translation\n",
      "\n",
      "nu => ['ぬ', 'ヌ']\n",
      "no => ['の', 'ノ']\n",
      "zo => ['ぞ', 'ゾ']\n",
      "ne => ['ね', 'ネ']\n",
      "o => ['お', 'オ']\n",
      "mo => ['も', 'モ']\n",
      "po => ['ぽ', 'ポ']\n",
      "ru => ['る', 'ル']\n",
      "shi => ['し', 'シ']\n",
      "yu => ['ゆ', 'ュ']\n",
      "yo => ['よ', 'ヨ']\n",
      "ki => ['き', 'キ']\n",
      "\n",
      "2. Hiragana's translation\n",
      "\n",
      "ば => ['ba', 'バ']\n",
      "ろ => ['ro', 'ロ']\n",
      "ぬ => ['nu', 'ヌ']\n",
      "た => ['ta', 'タ']\n",
      "ほ => ['ho', 'ホ']\n",
      "せ => ['se', 'セ']\n",
      "ぜ => ['ze', 'ゼ']\n",
      "ひ => ['hi', 'ヒ']\n",
      "か => ['ka', 'カ']\n",
      "ど => ['do', 'ド']\n",
      "り => ['ri', 'リ']\n",
      "れ => ['re', 'レ']\n",
      "\n",
      "3. Katakana's translation\n",
      "\n",
      "バ => ['ba', 'ば']\n",
      "ヲ => ['wo', 'を']\n",
      "ソ => ['so', 'そ']\n",
      "ヅ => ['zu', 'づ']\n",
      "コ => ['ko', 'こ']\n",
      "エ => ['e', 'え']\n",
      "ミ => ['mi', 'み']\n",
      "ジ => ['ji', 'じ']\n",
      "ケ => ['ke', 'け']\n",
      "ヒ => ['hi', 'ひ']\n",
      "ウ => ['u', 'う']\n",
      "テ => ['te', 'て']\n"
     ]
    },
    {
     "ename": "ValueError",
     "evalue": "invalid literal for int() with base 10: ''",
     "output_type": "error",
     "traceback": [
      "\u001b[1;31m---------------------------------------------------------------------------\u001b[0m",
      "\u001b[1;31mValueError\u001b[0m                                Traceback (most recent call last)",
      "\u001b[1;32mc:\\Users\\Celto\\Documents\\Jupiter notebooks\\Japonais\\Japonais_pro\\test.ipynb Cell 2\u001b[0m in \u001b[0;36m<cell line: 1>\u001b[1;34m()\u001b[0m\n\u001b[1;32m----> <a href='vscode-notebook-cell:/c%3A/Users/Celto/Documents/Jupiter%20notebooks/Japonais/Japonais_pro/test.ipynb#W1sZmlsZQ%3D%3D?line=0'>1</a>\u001b[0m exam\u001b[39m.\u001b[39;49mexam_JLPT5()\n",
      "File \u001b[1;32mc:\\Users\\Celto\\Documents\\Jupiter notebooks\\Japonais\\Japonais_pro\\exam.py:236\u001b[0m, in \u001b[0;36mexam_JLPT5\u001b[1;34m(size_vocabulary, size_kanji, size_alphabet, size_sentences)\u001b[0m\n\u001b[0;32m    234\u001b[0m \u001b[39m# Depending on current difficulty level, choose adapted exam level\u001b[39;00m\n\u001b[0;32m    235\u001b[0m \u001b[39mif\u001b[39;00m difficulty \u001b[39m<\u001b[39m \u001b[39m40\u001b[39m:\n\u001b[1;32m--> 236\u001b[0m     exam_JLPT5_level1(size_vocabulary, size_kanji, size_alphabet)\n\u001b[0;32m    238\u001b[0m \u001b[39melif\u001b[39;00m difficulty \u001b[39m<\u001b[39m \u001b[39m75\u001b[39m:\n\u001b[0;32m    239\u001b[0m     exam_JLPT5_level2(size_vocabulary, size_sentences, size_kanji)\n",
      "File \u001b[1;32mc:\\Users\\Celto\\Documents\\Jupiter notebooks\\Japonais\\Japonais_pro\\exam.py:266\u001b[0m, in \u001b[0;36mexam_JLPT5_level1\u001b[1;34m(size_vocabulary, size_kanji, size_alphabet)\u001b[0m\n\u001b[0;32m    256\u001b[0m \u001b[39m'''\u001b[39;00m\n\u001b[0;32m    257\u001b[0m \u001b[39mThis exam has five exercises.\u001b[39;00m\n\u001b[0;32m    258\u001b[0m \u001b[39mFirst one is about alphabet. It only worth 10 points because it's the easiest.\u001b[39;00m\n\u001b[1;32m   (...)\u001b[0m\n\u001b[0;32m    263\u001b[0m \u001b[39mGood luck!\u001b[39;00m\n\u001b[0;32m    264\u001b[0m \u001b[39m'''\u001b[39;00m\n\u001b[0;32m    265\u001b[0m \u001b[39m# PART 1: Alphabets test (by default, size=12)\u001b[39;00m\n\u001b[1;32m--> 266\u001b[0m list_mistakes_ex1, success_rate_ex1 \u001b[39m=\u001b[39m jap_alphabet\u001b[39m.\u001b[39;49mJLPT5_alphabet(size\u001b[39m=\u001b[39;49msize_alphabet)\n\u001b[0;32m    268\u001b[0m \u001b[39m# PART 2: JLPT5 Kanji test (jap => fr)\u001b[39;00m\n\u001b[0;32m    269\u001b[0m list_mistakes_ex2, success_rate_ex2 \u001b[39m=\u001b[39m jap_JPTL5_80kanji\u001b[39m.\u001b[39mJLPT5_kanji(size\u001b[39m=\u001b[39msize_kanji, direction\u001b[39m=\u001b[39m\u001b[39m0\u001b[39m)\n",
      "File \u001b[1;32mc:\\Users\\Celto\\Documents\\Jupiter notebooks\\Japonais\\Japonais_pro\\jap_alphabet.py:245\u001b[0m, in \u001b[0;36mJLPT5_alphabet\u001b[1;34m(size)\u001b[0m\n\u001b[0;32m    242\u001b[0m alphabet_correction_presentation(alphabet_test)\n\u001b[0;32m    244\u001b[0m \u001b[39m# Check mistakes\u001b[39;00m\n\u001b[1;32m--> 245\u001b[0m number_mistakes, list_mistakes \u001b[39m=\u001b[39m global_functions\u001b[39m.\u001b[39;49mget_mistakes()\n\u001b[0;32m    247\u001b[0m \u001b[39m# Add 'S' for success and 'F' for fail to all test we did\u001b[39;00m\n\u001b[0;32m    248\u001b[0m SF_list \u001b[39m=\u001b[39m []\n",
      "File \u001b[1;32mc:\\Users\\Celto\\Documents\\Jupiter notebooks\\Japonais\\Japonais_pro\\global_functions.py:272\u001b[0m, in \u001b[0;36mget_mistakes\u001b[1;34m()\u001b[0m\n\u001b[0;32m    270\u001b[0m \u001b[39mdef\u001b[39;00m \u001b[39mget_mistakes\u001b[39m():\n\u001b[0;32m    271\u001b[0m     \u001b[39m# Ask if there are mistakes\u001b[39;00m\n\u001b[1;32m--> 272\u001b[0m     number_mistakes \u001b[39m=\u001b[39m \u001b[39mint\u001b[39;49m(\u001b[39minput\u001b[39;49m(\u001b[39m'\u001b[39;49m\u001b[39mHow many mistakes did you make?\u001b[39;49m\u001b[39m'\u001b[39;49m))\n\u001b[0;32m    273\u001b[0m     list_mistakes \u001b[39m=\u001b[39m []\n\u001b[0;32m    275\u001b[0m     \u001b[39mif\u001b[39;00m number_mistakes \u001b[39m==\u001b[39m \u001b[39m0\u001b[39m:\n",
      "\u001b[1;31mValueError\u001b[0m: invalid literal for int() with base 10: ''"
     ]
    }
   ],
   "source": [
    "exam.exam_JLPT5()"
   ]
  },
  {
   "cell_type": "code",
   "execution_count": null,
   "metadata": {},
   "outputs": [],
   "source": []
  },
  {
   "cell_type": "code",
   "execution_count": 4,
   "metadata": {},
   "outputs": [
    {
     "name": "stdout",
     "output_type": "stream",
     "text": [
      "32.3\n",
      "32.3\n"
     ]
    }
   ],
   "source": [
    "print(len(jap_data.JLPT5_voc_fr)/10)\n",
    "print(len(jap_data.JLPT5_voc_jap)/10)"
   ]
  },
  {
   "cell_type": "code",
   "execution_count": 5,
   "metadata": {},
   "outputs": [
    {
     "data": {
      "text/plain": [
       "29.1"
      ]
     },
     "execution_count": 5,
     "metadata": {},
     "output_type": "execute_result"
    }
   ],
   "source": [
    "len(jap_data.JLPT5_voc_fr)/10"
   ]
  },
  {
   "cell_type": "code",
   "execution_count": 3,
   "metadata": {},
   "outputs": [
    {
     "name": "stdout",
     "output_type": "stream",
     "text": [
      "279 279\n"
     ]
    }
   ],
   "source": [
    "print(len(jap_data.JLPT5_voc_jap), len(jap_data.JLPT5_voc_fr))"
   ]
  },
  {
   "cell_type": "code",
   "execution_count": 4,
   "metadata": {},
   "outputs": [
    {
     "name": "stdout",
     "output_type": "stream",
     "text": [
      "265 265\n"
     ]
    }
   ],
   "source": [
    "with open('JLPT5_fr_vocabulary.json', 'r') as file:\n",
    "    data_fr = json.load(file)\n",
    "\n",
    "with open('JLPT5_jap_vocabulary.json', 'r') as file:\n",
    "    data_jap = json.load(file)\n",
    "\n",
    "print(len(data_fr), len(data_jap))"
   ]
  },
  {
   "cell_type": "code",
   "execution_count": 3,
   "metadata": {},
   "outputs": [
    {
     "name": "stdout",
     "output_type": "stream",
     "text": [
      "The json's file will be updated, adding the following words:\n",
      "(じしょ | じびき) dictionnaire\n",
      "(しずか) calme, silencieux\n",
      "(しずかに) silencieusement, calmement; Silence !\n",
      "(しつもん) question\n",
      "(しつもんする) interroger, questionner\n",
      "(じてんしゃ) vélo\n",
      "(じどうしゃ) automobile, voiture\n",
      "(じぶん) soi, soi-même\n",
      "(しまる) se fermer, être fermer\n",
      "(しめる) fermer\n",
      "(しめる) lier\n",
      "(しゃしん) photographie, photo\n",
      "(しゃつ) chemise\n",
      "(しゃわあ) douche\n",
      "(じゅぎょう) cours, classe\n"
     ]
    }
   ],
   "source": [
    "global_functions.json_auto_update('JLPT5_fr_vocabulary.json', 'JLPT5_jap_vocabulary.json', jap_data.JLPT5_voc_fr, jap_data.JLPT5_voc_jap)"
   ]
  },
  {
   "cell_type": "code",
   "execution_count": 7,
   "metadata": {},
   "outputs": [
    {
     "name": "stdout",
     "output_type": "stream",
     "text": [
      "279 279\n"
     ]
    }
   ],
   "source": [
    "with open('JLPT5_fr_vocabulary.json', 'r') as file:\n",
    "    data_fr = json.load(file)\n",
    "\n",
    "with open('JLPT5_jap_vocabulary.json', 'r') as file:\n",
    "    data_jap = json.load(file)\n",
    "\n",
    "print(len(data_fr), len(data_jap))"
   ]
  },
  {
   "cell_type": "code",
   "execution_count": 10,
   "metadata": {},
   "outputs": [
    {
     "data": {
      "text/plain": [
       "[-2, 1, '(ふね) bateau']"
      ]
     },
     "execution_count": 10,
     "metadata": {},
     "output_type": "execute_result"
    }
   ],
   "source": [
    "with open('JLPT5_jap_vocabulary.json', 'r') as file:\n",
    "    data_jap = json.load(file)\n",
    "\n",
    "data_jap['船']\n",
    "\n"
   ]
  },
  {
   "cell_type": "code",
   "execution_count": 11,
   "metadata": {},
   "outputs": [],
   "source": [
    "global_functions.jap_JLPT_update_value('JLPT5_jap_vocabulary.json', '船', [-2, 1, '(セン | ふね) bateau'])"
   ]
  },
  {
   "cell_type": "code",
   "execution_count": 12,
   "metadata": {},
   "outputs": [
    {
     "data": {
      "text/plain": [
       "[-2, 1, '(セン | ふね) bateau']"
      ]
     },
     "execution_count": 12,
     "metadata": {},
     "output_type": "execute_result"
    }
   ],
   "source": [
    "with open('JLPT5_jap_vocabulary.json', 'r') as file:\n",
    "    data_jap = json.load(file)\n",
    "\n",
    "data_jap['船']"
   ]
  },
  {
   "cell_type": "code",
   "execution_count": 8,
   "metadata": {},
   "outputs": [],
   "source": [
    "global_functions.jap_JLPT_update_key('JLPT5_fr_vocabulary.json',\n",
    "                                     '(ふね) bateau',\n",
    "                                     '(セン | ふね) bateau')"
   ]
  },
  {
   "cell_type": "code",
   "execution_count": 9,
   "metadata": {},
   "outputs": [
    {
     "data": {
      "text/plain": [
       "[1, 1, '船']"
      ]
     },
     "execution_count": 9,
     "metadata": {},
     "output_type": "execute_result"
    }
   ],
   "source": [
    "with open('JLPT5_fr_vocabulary.json', 'r') as file:\n",
    "    data_jap = json.load(file)\n",
    "\n",
    "data_jap['(セン | ふね) bateau']"
   ]
  },
  {
   "cell_type": "code",
   "execution_count": null,
   "metadata": {},
   "outputs": [],
   "source": []
  },
  {
   "cell_type": "code",
   "execution_count": 2,
   "metadata": {},
   "outputs": [
    {
     "data": {
      "image/png": "[encoded data removed]",
      "text/plain": [
       "<Figure size 2000x1000 with 2 Axes>"
      ]
     },
     "metadata": {},
     "output_type": "display_data"
    }
   ],
   "source": [
    "exam.get_evaluation_score_info_JLPT5()"
   ]
  },
  {
   "cell_type": "code",
   "execution_count": 5,
   "metadata": {},
   "outputs": [
    {
     "name": "stdout",
     "output_type": "stream",
     "text": [
      "\n",
      "Alphabet training: Romanji, Hiragana, Katakana\n",
      "\n",
      "\n",
      "1. Romanji to hiragana & katakana\n",
      "\n",
      "so\n",
      "bi\n",
      "wa\n",
      "sa\n",
      "pa\n",
      "u\n",
      "ku\n",
      "ji\n",
      "da\n",
      "fu\n",
      "ne\n",
      "shi\n",
      "\n",
      "2. Hiragana to romanji & katakana\n",
      "\n",
      "づ\n",
      "ぼ\n",
      "な\n",
      "べ\n",
      "め\n",
      "る\n",
      "ば\n",
      "ぞ\n",
      "す\n",
      "よ\n",
      "ん\n",
      "ヘ\n",
      "\n",
      "3. Katakana to romanji & hiragana\n",
      "\n",
      "オ\n",
      "ギ\n",
      "コ\n",
      "プ\n",
      "ヅ\n",
      "ゴ\n",
      "メ\n",
      "チ\n",
      "ナ\n",
      "ブ\n",
      "ペ\n",
      "ネ\n",
      "\n",
      "Correction time.\n",
      "\n",
      "\n",
      "1. Romanji's translation\n",
      "\n",
      "so => ['そ', 'ソ']\n",
      "bi => ['び', 'ビ']\n",
      "wa => ['わ', 'ワ']\n",
      "sa => ['さ', 'サ']\n",
      "pa => ['ぱ', 'パ']\n",
      "u => ['う', 'ウ']\n",
      "ku => ['く', 'ク']\n",
      "ji => ['ぢ', 'ヂ']\n",
      "da => ['だ', 'ダ']\n",
      "fu => ['ふ', 'フ']\n",
      "ne => ['ね', 'ネ']\n",
      "shi => ['し', 'シ']\n",
      "\n",
      "2. Hiragana's translation\n",
      "\n",
      "づ => ['zu', 'ヅ']\n",
      "ぼ => ['bo', 'ボ']\n",
      "な => ['na', 'ナ']\n",
      "べ => ['be', 'ベ']\n",
      "め => ['me', 'メ']\n",
      "る => ['ru', 'ル']\n",
      "ば => ['ba', 'バ']\n",
      "ぞ => ['zo', 'ゾ']\n",
      "す => ['su', 'ス']\n",
      "よ => ['yo', 'ヨ']\n",
      "ん => ['n', 'ン']\n",
      "ヘ => ['he', 'ヘ']\n",
      "\n",
      "3. Katakana's translation\n",
      "\n",
      "オ => ['o', 'お']\n",
      "ギ => ['gi', 'ぎ']\n",
      "コ => ['ko', 'こ']\n",
      "プ => ['pu', 'ぷ']\n",
      "ヅ => ['zu', 'づ']\n",
      "ゴ => ['go', 'ご']\n",
      "メ => ['me', 'め']\n",
      "チ => ['tchi', 'ち']\n",
      "ナ => ['na', 'な']\n",
      "ブ => ['bu', 'ぶ']\n",
      "ペ => ['pe', 'ぺ']\n",
      "ネ => ['ne', 'ね']\n",
      "\n",
      "Perfect! You did a great job :)\n",
      "\n",
      "\n",
      "Kanji's exercise: Kanji to kun/on yumi + fr.\n",
      "\n",
      "\n",
      " Questions 1 to 10:\n",
      "\n",
      "母\n",
      "三\n",
      "本\n",
      "北\n",
      "名\n",
      "車\n",
      "休\n",
      "母語\n",
      "南\n",
      "毎月\n",
      "\n",
      " Questions 11 to 20:\n",
      "\n",
      "毎日\n",
      "日\n",
      "校長\n",
      "校\n",
      "時\n",
      "来\n",
      "語\n",
      "長\n",
      "小\n",
      "聞\n",
      "\n",
      " Questions 21 to 30:\n",
      "\n",
      "七\n",
      "中\n",
      "火山\n",
      "友\n",
      "雨\n",
      "月\n",
      "白\n",
      "食\n",
      "男\n",
      "今\n",
      "\n",
      "Correction time.\n",
      "\n",
      "\n",
      "Kanji's to French:\n",
      "\n",
      "\n",
      " Answers 1 to 10:\n",
      "\n",
      "母 => (ボ|はは も) maman\n",
      "三 => (サン|み.つ) 3\n",
      "本 => (ホン) livre, origine, vrai\n",
      "北 => (キタ ホク) Nord\n",
      "名 => (メイ|な) nom, réputation\n",
      "車 => (クル, シャ) voiture, \"en lien avec les pièces de voitures\"\n",
      "休 => (キュウ|やす.む やす.まる やす.める) repos, sommeil, retraite\n",
      "母語 => (ボゴ) langue maternelle\n",
      "南 => (ナン|みなみ) Sud\n",
      "毎月 => (マイツキ) tous les mois, chaque mois\n",
      "\n",
      " Answers 11 to 20:\n",
      "\n",
      "毎日 => (マイニチ) tous les jours, chaque jour\n",
      "日 => (ニチ|ひ) jour, soleil\n",
      "校長 => (コウチョウ) directeur d'école, principal, proviseur\n",
      "校 => (コウ) école\n",
      "時 => (ジ|とき) heure\n",
      "来 => (ライ|きた.る) arrivée de qqch, qqch qui arrive (rainen : année prochaine)\n",
      "語 => (ゴウ,かた.る) mot, langue\n",
      "長 => (チョウ|なが.い) long, chef\n",
      "小 => (ショウ|ちい.さい) petit\n",
      "聞 => (ブン モン|き.く き.こえる) entendre, écouter, demander\n",
      "\n",
      " Answers 21 to 30:\n",
      "\n",
      "七 => (シチ|なな) 7\n",
      "中 => (チュウ|なか) dedans, milieu\n",
      "火山 => (カザン) volcan\n",
      "友 => (トモ) ami\n",
      "雨 => (ウ|あめ あま-) pluie\n",
      "月 => (ゲツ, ガツ) lune, mois\n",
      "白 => (ハク|しろ しら-) blanc\n",
      "食 => (ショク|く.う く.らう た.べる) nourriture, manger\n",
      "男 => (ダン|おとこ) homme\n",
      "今 => (コン|いま) maintenant\n",
      "\n",
      "Perfect! You did a great job :)\n",
      "\n",
      "\n",
      "Kanji's exercise: kun/on yumi + fr to kanji.\n",
      "\n",
      "\n",
      " Questions 1 to 10:\n",
      "\n",
      "(ハチ|や.つ) 8\n",
      "(チュウ|なか) dedans, milieu\n",
      "(キタ ホク) Nord\n",
      "(ナン|みなみ) Sud\n",
      "(メイ|な) nom, réputation\n",
      "(セイ|い.きる) vie, naissance\n",
      "(ミギ) droite\n",
      "(クル, シャ) voiture, \"en lien avec les pièces de voitures\"\n",
      "(ゴウ,かた.る) mot, langue\n",
      "(イチ|ひと) 1\n",
      "\n",
      " Questions 11 to 20:\n",
      "\n",
      "(セン) 1000\n",
      "(ロク|む.つ) 6\n",
      "(ショ|か.く) écrire\n",
      "(ヒガ) Est\n",
      "(ガイ|そと) dehors\n",
      "(ド, ツ) sol, terre\n",
      "(ブン モン|き.く き.こえる) entendre, écouter, demander\n",
      "(カン|あいだ, ま) pendant | pendant, distance, intervalle\n",
      "(セン マ|さき) avant, précédent\n",
      "(ショウ|ちい.さい) petit\n",
      "\n",
      " Questions 21 to 30:\n",
      "\n",
      "(ジン, ニン|ひと) personne\n",
      "(ネン) année\n",
      "(コク) pays\n",
      "(マン, ヨロ) 10000\n",
      "(トモ) ami\n",
      "(ワ|はな.す はなし) histoire, parler\n",
      "(ガク, マナ) étude\n",
      "(ジョウ|うえ) dessus, au-dessus\n",
      "(キン|かね) or\n",
      "(ゴ|うま) midi, cheval\n",
      "\n",
      "Correction time.\n",
      "\n",
      "\n",
      "French's to Kanji:\n",
      "\n",
      "\n",
      " Answers 1 to 10:\n",
      "\n",
      "(ハチ|や.つ) 8 => 八\n",
      "(チュウ|なか) dedans, milieu => 中\n",
      "(キタ ホク) Nord => 北\n",
      "(ナン|みなみ) Sud => 南\n",
      "(メイ|な) nom, réputation => 名\n",
      "(セイ|い.きる) vie, naissance => 生\n",
      "(ミギ) droite => 右\n",
      "(クル, シャ) voiture, \"en lien avec les pièces de voitures\" => 車\n",
      "(ゴウ,かた.る) mot, langue => 語\n",
      "(イチ|ひと) 1 => 一\n",
      "\n",
      " Answers 11 to 20:\n",
      "\n",
      "(セン) 1000 => 千\n",
      "(ロク|む.つ) 6 => 六\n",
      "(ショ|か.く) écrire => 書\n",
      "(ヒガ) Est => 東\n",
      "(ガイ|そと) dehors => 外\n",
      "(ド, ツ) sol, terre => 土\n",
      "(ブン モン|き.く き.こえる) entendre, écouter, demander => 聞\n",
      "(カン|あいだ, ま) pendant | pendant, distance, intervalle => 間\n",
      "(セン マ|さき) avant, précédent => 先\n",
      "(ショウ|ちい.さい) petit => 小\n",
      "\n",
      " Answers 21 to 30:\n",
      "\n",
      "(ジン, ニン|ひと) personne => 人\n",
      "(ネン) année => 年\n",
      "(コク) pays => 国\n",
      "(マン, ヨロ) 10000 => 万\n",
      "(トモ) ami => 友\n",
      "(ワ|はな.す はなし) histoire, parler => 話\n",
      "(ガク, マナ) étude => 学\n",
      "(ジョウ|うえ) dessus, au-dessus => 上\n",
      "(キン|かね) or => 金\n",
      "(ゴ|うま) midi, cheval => 午\n",
      "\n",
      "Perfect! You did a great job :)\n",
      "\n",
      "\n",
      "Vocabulary's exercise: Kanji's vocabulary to kun/on yumi + french.\n",
      "\n",
      "\n",
      " Questions 1 to 10:\n",
      "\n",
      "停泊\n",
      "入れる\n",
      "暑い|厚い\n",
      "喫茶店\n",
      "(あの)\n",
      "歩く\n",
      "妹\n",
      "重い\n",
      "絵\n",
      "机\n",
      "\n",
      " Questions 11 to 20:\n",
      "\n",
      "起きる\n",
      "魚\n",
      "菓子\n",
      "朝御飯\n",
      "新\n",
      "食堂\n",
      "要る\n",
      "言う\n",
      "牛\n",
      "台所\n",
      "\n",
      " Questions 21 to 30:\n",
      "\n",
      "今日\n",
      "海\n",
      "王\n",
      "お弁当\n",
      "上げる\n",
      "世\n",
      "明い\n",
      "生まれる\n",
      "買う\n",
      "朝\n",
      "\n",
      "Correction time.\n",
      "\n",
      "\n",
      "Japanese's to French:\n",
      "\n",
      "\n",
      " Answers 1 to 10:\n",
      "\n",
      "停泊 => (ていはく) mouillage, ancrage\n",
      "入れる => (いれる) insérer, mettre, inclure\n",
      "暑い|厚い => (あつい) chaud, brulant, lourd\n",
      "喫茶店 => (きっさてん) salon de thé, café, buvette\n",
      "(あの) => heuu.. | cela\n",
      "歩く => (あるく) marcher\n",
      "妹 => (いもうと) petite soeur\n",
      "重い => (おもい) lourd\n",
      "絵 => (え) peinture, dessin, image\n",
      "机 => (つくえ) bureau\n",
      "\n",
      " Answers 11 to 20:\n",
      "\n",
      "起きる => (おきる) se réveiller\n",
      "魚 => (さかな) poisson\n",
      "菓子 => (かし) gâteau, pâtisserie\n",
      "朝御飯 => (あさごはん) petit déjeuner\n",
      "新 => (しん), nouveau\n",
      "食堂 => (しょくどう) salle à manger\n",
      "要る => (いる) avoir besoin de\n",
      "言う => (いう) dire\n",
      "牛 => (うし) vache, bovin\n",
      "台所 => (だいどころ) cuisine\n",
      "\n",
      " Answers 21 to 30:\n",
      "\n",
      "今日 => (きょう) aujourd'hui\n",
      "海 => (うみ) mer\n",
      "王 => (おう) roi\n",
      "お弁当 => (おべんとう) boîte à bento\n",
      "上げる => (あげる) donner, élever, soulever, augmenter\n",
      "世 => (よ) monde, société, époque\n",
      "明い => (メイ|あかるい) éclairé, clair\n",
      "生まれる => (うまれる) naître, être né\n",
      "買う => (かう) acheter\n",
      "朝 => (あさ) matin\n",
      "Write down all your mistake(s)\n",
      "\n",
      "Vocabulary's exercise: kun/on yumi + french to kanji's vocabulary.\n",
      "\n",
      "\n",
      " Questions 1 to 10:\n",
      "\n",
      "(おう) roi\n",
      "(ねこ) chat\n",
      "(かぞく) (membre d'une) famille\n",
      "(はなつ) libérer, lâcher, émettre, répandre\n",
      "non\n",
      "(あに) grand-frère\n",
      "(あし) pied, jambe\n",
      "(あたらしい) nouveau (récent, frais)\n",
      "(であるく) sortir, se promener, faire un tour\n",
      "(いぬ) chien\n",
      "\n",
      " Questions 11 to 20:\n",
      "\n",
      "(しん), nouveau\n",
      "(おぼえる) se souvenir, retenir| ressentir, considérer\n",
      "bon, bien\n",
      "(うた) chanson\n",
      "(がくせい) étudiant\n",
      "(きらい) détesté\n",
      "(おちゃ) thé vert\n",
      "(かいだん) escalier\n",
      "(わたし) je, moi\n",
      "(にわ) jardin\n",
      "\n",
      " Questions 21 to 30:\n",
      "\n",
      "(あつい) chaud, brulant, lourd\n",
      "(さかな) poisson\n",
      "(きっぷ) ticket, billet\n",
      "(いたい) douloureux\n",
      "(えき) gare\n",
      "(かさ) parapluie\n",
      "premier\n",
      "(かう) acheter\n",
      "(はたらき) action, fonctionnement, capacité\n",
      "quand\n",
      "\n",
      "Correction time.\n",
      "\n",
      "\n",
      "French's to Japanese:\n",
      "\n",
      "\n",
      " Answers 1 to 10:\n",
      "\n",
      "(おう) roi => 王\n",
      "(ねこ) chat => 猫\n",
      "(かぞく) (membre d'une) famille => 家族\n",
      "(はなつ) libérer, lâcher, émettre, répandre => 放つ\n",
      "non => いいえ\n",
      "(あに) grand-frère => 兄\n",
      "(あし) pied, jambe => 足\n",
      "(あたらしい) nouveau (récent, frais) => 新しい\n",
      "(であるく) sortir, se promener, faire un tour => 出歩く\n",
      "(いぬ) chien => 犬\n",
      "\n",
      " Answers 11 to 20:\n",
      "\n",
      "(しん), nouveau => 新\n",
      "(おぼえる) se souvenir, retenir| ressentir, considérer => 覚える\n",
      "bon, bien => いい/よい\n",
      "(うた) chanson => 歌\n",
      "(がくせい) étudiant => 学生\n",
      "(きらい) détesté => 嫌い\n",
      "(おちゃ) thé vert => お茶\n",
      "(かいだん) escalier => 階段\n",
      "(わたし) je, moi => 私\n",
      "(にわ) jardin => 庭\n",
      "\n",
      " Answers 21 to 30:\n",
      "\n",
      "(あつい) chaud, brulant, lourd => 暑い|厚い\n",
      "(さかな) poisson => 魚\n",
      "(きっぷ) ticket, billet => 切符\n",
      "(いたい) douloureux => 痛い\n",
      "(えき) gare => 駅\n",
      "(かさ) parapluie => 傘\n",
      "premier => いちばん\n",
      "(かう) acheter => 買う\n",
      "(はたらき) action, fonctionnement, capacité => 働き\n",
      "quand => いつ\n",
      "Write down all your mistake(s)\n",
      "\n",
      "\n",
      "Individual scores:\n",
      "\n",
      "\n",
      "Exercise 1: 100% => 10 points.\n",
      "Exercise 2: 100% => 20 points.\n",
      "Exercise 3: 100% => 20 points.\n",
      "Exercise 4: 73% => 18 points.\n",
      "Exercise 5: 50% => 12 points.\n",
      "\n",
      "\n",
      "Final result: 80/100\n"
     ]
    },
    {
     "data": {
      "image/png": "[encoded data removed]",
      "text/plain": [
       "<Figure size 2000x1000 with 2 Axes>"
      ]
     },
     "metadata": {},
     "output_type": "display_data"
    },
    {
     "name": "stdout",
     "output_type": "stream",
     "text": [
      "Exercise 1: perfect!\n",
      "Exercise 2: perfect!\n",
      "Exercise 3: perfect!\n",
      "Error(s) Exercise 4:\n",
      "\n",
      "停泊 => [-2, 1, '(ていはく) mouillage, ancrage']\n",
      "喫茶店 => [-2, 1, '(きっさてん) salon de thé, café, buvette']\n",
      "重い => [0, 1, '(おもい) lourd']\n",
      "絵 => [1, 1, '(え) peinture, dessin, image']\n",
      "食堂 => [-3, 1, '(しょくどう) salle à manger']\n",
      "牛 => [-2, 1, '(うし) vache, bovin']\n",
      "台所 => [3, 1, '(だいどころ) cuisine']\n",
      "世 => [-2, 1, '(よ) monde, société, époque']\n",
      "\n",
      "Error(s) Exercise 5:\n",
      "\n",
      "(かぞく) (membre d'une) famille => [-4, 1, '家族']\n",
      "(はなつ) libérer, lâcher, émettre, répandre => [-4, 1, '放つ']\n",
      "(であるく) sortir, se promener, faire un tour => [1, 1, '出歩く']\n",
      "(いぬ) chien => [7, 2, '犬']\n",
      "(おぼえる) se souvenir, retenir| ressentir, considérer => [-1, 1, '覚える']\n",
      "(うた) chanson => [5, 1, '歌']\n",
      "(きらい) détesté => [-1, 1, '嫌い']\n",
      "(おちゃ) thé vert => [-4, 1, 'お茶']\n",
      "(かいだん) escalier => [-3, 1, '階段']\n",
      "(にわ) jardin => [5, 1, '庭']\n",
      "(きっぷ) ticket, billet => [-2, 1, '切符']\n",
      "(いたい) douloureux => [2, 1, '痛い']\n",
      "(えき) gare => [-3, 1, '駅']\n",
      "(かさ) parapluie => [0, 1, '傘']\n",
      "(はたらき) action, fonctionnement, capacité => [-2, 1, '働き']\n",
      "\n"
     ]
    }
   ],
   "source": [
    "import exam\n",
    "exam.exam_JLPT5()"
   ]
  },
  {
   "cell_type": "code",
   "execution_count": 24,
   "metadata": {},
   "outputs": [],
   "source": [
    "def get_score_info(knowledge_path, evaluation_path=None, lowest_scores_size=20):\n",
    "    '''\n",
    "    This function doesn't work if the user never took an evaluation yet.\n",
    "\n",
    "    This function returns a list that contains:\n",
    "    - [0]: The mean score\n",
    "    - [1]: The mean level\n",
    "    - [2]: The list of the \"lowest_scores_size\" lowest scores\n",
    "    - [3]: The number of words for each level: {1: x1, 2: x2, ..., 4: x4}\n",
    "    - [4]: The evolution of difficulty_size\n",
    "    - [5]: The evolution of scores through evaluations\n",
    "\n",
    "    \"knowledge_path\" is the path of the json file to study\n",
    "    \"evaluation_path\" is the path to the evaluation results\n",
    "    '''\n",
    "    # Get knowledge's data and info\n",
    "    mean_score, mean_level, lowest_score_list, level_words = global_functions.get_knowledge_info(knowledge_path, lowest_scores_size)\n",
    "\n",
    "    # Get evaluation's data\n",
    "    with open(evaluation_path, 'r') as file:\n",
    "        evaluation_path = json.load(file)\n",
    "\n",
    "    # Get the evolution of difficulty_size\n",
    "    difficulty_evolution = []\n",
    "\n",
    "    # Get the evolution of scores during evaluations\n",
    "    score_evolution = []\n",
    "\n",
    "\n",
    "\n",
    "    return [mean_score, mean_level, lowest_score_list, level_words, difficulty_evolution, score_evolution]"
   ]
  },
  {
   "cell_type": "code",
   "execution_count": 20,
   "metadata": {},
   "outputs": [
    {
     "data": {
      "text/plain": [
       "(3.3137254901960786,\n",
       " 1.3686274509803922,\n",
       " {'(あそこ)': [15, 3, 'là-bas'],\n",
       "  '(あちら)': [13, 3, 'par là-bas'],\n",
       "  '(あの)': [16, 3, 'heuu.. | cela'],\n",
       "  '(アパート)': [17, 3, 'appartement'],\n",
       "  'いい/よい': [12, 3, 'bon, bien'],\n",
       "  'いいえ': [14, 3, 'non'],\n",
       "  'いかが|いくつ': [5, 1, 'combien ? (pas un prix)'],\n",
       "  'いくら': [11, 3, 'Combien ça coûte ?'],\n",
       "  'いちばん': [4, 1, 'premier'],\n",
       "  'いつ': [2, 1, 'quand'],\n",
       "  'いろいろ': [3, 1, 'varié'],\n",
       "  'お兄さん': [2, 1, '(おにいさん) frère aîné'],\n",
       "  'お姉さん': [2, 1, '(おねえさん) soeur aînée'],\n",
       "  'お弁当': [4, 1, '(おべんとう) boîte à bento'],\n",
       "  'お手洗い': [3, 1, '(おてあらい) toilettes, salle de bain'],\n",
       "  'お母さん': [2, 1, '(おかあさん) mère'],\n",
       "  'お父さん': [2, 1, '(おとうさん) père, papa'],\n",
       "  'お皿': [0, 1, '(おさら) assiette'],\n",
       "  'お祖母さん': [3, 1, '(おばあさん) grand-mère'],\n",
       "  'お祖父さん': [3, 1, '(おじいさん) grand-père']},\n",
       " {1: 206, 2: 6, 3: 41, 4: 2},\n",
       " [],\n",
       " [])"
      ]
     },
     "execution_count": 20,
     "metadata": {},
     "output_type": "execute_result"
    }
   ],
   "source": [
    "get_score_info('JLPT5_jap_vocabulary.json', 'JLPT5_jap_kanji.json')"
   ]
  }
 ],
 "metadata": {
  "kernelspec": {
   "display_name": "tanoshii",
   "language": "python",
   "name": "python3"
  },
  "language_info": {
   "codemirror_mode": {
    "name": "ipython",
    "version": 3
   },
   "file_extension": ".py",
   "mimetype": "text/x-python",
   "name": "python",
   "nbconvert_exporter": "python",
   "pygments_lexer": "ipython3",
   "version": "3.11.4"
  },
  "orig_nbformat": 4
 },
 "nbformat": 4,
 "nbformat_minor": 2
}
